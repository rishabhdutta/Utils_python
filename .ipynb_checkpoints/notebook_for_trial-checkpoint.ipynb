{
 "cells": [
  {
   "cell_type": "markdown",
   "id": "e27d4487",
   "metadata": {},
   "source": [
    "### trying out functions "
   ]
  },
  {
   "cell_type": "code",
   "execution_count": 1,
   "id": "7c12c27e",
   "metadata": {},
   "outputs": [],
   "source": [
    "import numpy as np "
   ]
  },
  {
   "cell_type": "code",
   "execution_count": 3,
   "id": "0c3ab8f6",
   "metadata": {},
   "outputs": [],
   "source": [
    "def remove_polygon_from_array(array, xmin = np.nan, xmax= np.nan, ymin= np.nan, ymin= np.nan):\n",
    "    plt.imshow(array, cmap='bwr', origin='lower')\n",
    "    \n",
    "    is_nan = np.isnan(xmin)\n",
    "    if is_nan:\n",
    "        continue\n",
    "    else:\n",
    "        plt.xlim(xmin, xmax)\n",
    "        plt.ylim(ymin, ymax)\n",
    "\n",
    "    plt.colorbar()\n",
    "    plt.title('Original Array')\n",
    "\n",
    "    # Allowing user to draw a polygon on the plot\n",
    "    polygon_path = plt.ginput(n=-1, show_clicks=True)\n",
    "    plt.close()\n",
    "\n",
    "    # Creating a Path object from the polygon points\n",
    "    polygon_vertices = [point for point in polygon_path]\n",
    "    polygon_path = Path(polygon_vertices)\n",
    "\n",
    "    # Creating a mask to identify points within the polygon\n",
    "    x, y = np.indices(array.shape)\n",
    "    points = np.column_stack((y.flatten(), x.flatten()))\n",
    "    mask = polygon_path.contains_points(points)\n",
    "    mask = mask.reshape(array.shape)\n",
    "\n",
    "    # Removing the area within the polygon by setting values to zero\n",
    "    array[mask] = np.nan\n",
    "\n",
    "    # Displaying the modified array\n",
    "    plt.imshow(array, cmap='viridis', origin='lower')\n",
    "    plt.colorbar()\n",
    "    plt.title('Modified Array')\n",
    "\n",
    "    plt.show()"
   ]
  },
  {
   "cell_type": "code",
   "execution_count": null,
   "id": "ef660fb7",
   "metadata": {},
   "outputs": [],
   "source": [
    "### Following are how to run the different function "
   ]
  },
  {
   "cell_type": "code",
   "execution_count": 5,
   "id": "6cb3fa6b",
   "metadata": {},
   "outputs": [
    {
     "name": "stdout",
     "output_type": "stream",
     "text": [
      "Local XY Coordinates (in km):\n",
      "[[-3.70344969 -5.54602705]\n",
      " [-0.          0.        ]\n",
      " [ 9.24777988  5.54607278]]\n"
     ]
    }
   ],
   "source": [
    "# Sample latitude, longitude in decimal degrees\n",
    "# Each column represents a data point\n",
    "llh = np.array([[34.05, 34.10, 34.15],  # Latitude values\n",
    "                [-118.24, -118.20, -118.10]])  # Longitude values\n",
    "\n",
    "# Latitude of origin in decimal degrees\n",
    "ll_org = np.array([34.10, -118.20])\n",
    "\n",
    "# Call the llh2localxy function\n",
    "xy = llh2localxy(llh, ll_org)\n",
    "\n",
    "# Print the result\n",
    "print(\"Local XY Coordinates (in km):\")\n",
    "print(xy)"
   ]
  },
  {
   "cell_type": "code",
   "execution_count": null,
   "id": "75d8f091",
   "metadata": {},
   "outputs": [],
   "source": []
  },
  {
   "cell_type": "code",
   "execution_count": null,
   "id": "96df1d26",
   "metadata": {},
   "outputs": [],
   "source": []
  }
 ],
 "metadata": {
  "kernelspec": {
   "display_name": "Python 3 (ipykernel)",
   "language": "python",
   "name": "python3"
  },
  "language_info": {
   "codemirror_mode": {
    "name": "ipython",
    "version": 3
   },
   "file_extension": ".py",
   "mimetype": "text/x-python",
   "name": "python",
   "nbconvert_exporter": "python",
   "pygments_lexer": "ipython3",
   "version": "3.7.12"
  }
 },
 "nbformat": 4,
 "nbformat_minor": 5
}
